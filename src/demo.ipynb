{
 "cells": [
  {
   "cell_type": "code",
   "execution_count": null,
   "metadata": {},
   "outputs": [],
   "source": [
    "# Initial imports \n",
    "import time, os\n",
    "from threading import Thread\n",
    "\n",
    "import pseye_sound_inference as psi\n",
    "import webcam_person_detection_pseye as wpdp\n",
    "from pseye_channel_filter import return_loudest_channel as rlc"
   ]
  },
  {
   "cell_type": "code",
   "execution_count": null,
   "metadata": {},
   "outputs": [],
   "source": [
    "# PlayStation Eye Sound Inference class to be used with threading\n",
    "\n",
    "class pseye_sound_inference(Thread):\n",
    "    def run(self):\n",
    "        psi.main()\n",
    "\n",
    "# PlayStation Eye Webcam Person Detection class to be used with threading\n",
    "class pseye_webcam_person_detection(Thread):\n",
    "    def run(self):\n",
    "        wpdp.main()"
   ]
  },
  {
   "cell_type": "code",
   "execution_count": null,
   "metadata": {},
   "outputs": [],
   "source": [
    "if __name__ == '__main__':\n",
    "    pseye_sound_inference = pseye_sound_inference()\n",
    "    pseye_sound_inference.start()\n",
    "\n",
    "    wpdp.main()"
   ]
  }
 ],
 "metadata": {
  "kernelspec": {
   "display_name": "Python 3.10.8 ('venv': venv)",
   "language": "python",
   "name": "python3"
  },
  "language_info": {
   "codemirror_mode": {
    "name": "ipython",
    "version": 3
   },
   "file_extension": ".py",
   "mimetype": "text/x-python",
   "name": "python",
   "nbconvert_exporter": "python",
   "pygments_lexer": "ipython3",
   "version": "3.10.8"
  },
  "orig_nbformat": 4,
  "vscode": {
   "interpreter": {
    "hash": "4ccb5946ce0078ad51091561a1eb90ba82bd8b388ae50dd1fe4086b9ee54f4fe"
   }
  }
 },
 "nbformat": 4,
 "nbformat_minor": 2
}
