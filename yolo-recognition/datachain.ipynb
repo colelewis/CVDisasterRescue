{
 "cells": [
  {
   "cell_type": "markdown",
   "metadata": {},
   "source": [
    "The images are downloaded from the Open Images Dataset, provided by Google, the homepage of the latest revision can be seen [here.](https://storage.googleapis.com/openimages/web/index.html)\n",
    "This has to be done for each dataset: training, validation, and test. We set a limit of 3000 images for test and train, then 500 for validation."
   ]
  },
  {
   "cell_type": "code",
   "execution_count": null,
   "metadata": {},
   "outputs": [],
   "source": [
    "!python3 OIDv4_ToolKit/main.py downloader --classes Human_arm Human_body Human_foot Human_hand Human_head Human_leg --type_csv test --limit 1"
   ]
  },
  {
   "cell_type": "code",
   "execution_count": null,
   "metadata": {},
   "outputs": [],
   "source": [
    "!python3 OIDv4_ToolKit/main.py downloader --classes Human_arm Human_body Human_foot Human_hand Human_head Human_leg --type_csv train --limit 3000"
   ]
  },
  {
   "cell_type": "code",
   "execution_count": null,
   "metadata": {},
   "outputs": [],
   "source": [
    "!python3 OIDv4_ToolKit/main.py downloader --classes Human_arm Human_body Human_foot Human_hand Human_head Human_leg --type_csv validation --limit 500"
   ]
  },
  {
   "cell_type": "markdown",
   "metadata": {},
   "source": [
    "Now, we convert the Open Images Dataset annotation format into Pascal VOC XML."
   ]
  },
  {
   "cell_type": "code",
   "execution_count": null,
   "metadata": {},
   "outputs": [],
   "source": [
    "!python3 yolo-recognition/OIDv4_ToolKit/oid_to_pascal_voc_xml.py"
   ]
  },
  {
   "cell_type": "markdown",
   "metadata": {},
   "source": [
    "Finally, we convert the XML files generated into YOLO v3 annotation format."
   ]
  },
  {
   "cell_type": "code",
   "execution_count": null,
   "metadata": {},
   "outputs": [],
   "source": [
    "!python3 yolo-recognition/OIDv4_ToolKit/XML_to_YOLOv3.py"
   ]
  }
 ],
 "metadata": {
  "kernelspec": {
   "display_name": "Python 3.10.7 64-bit",
   "language": "python",
   "name": "python3"
  },
  "language_info": {
   "codemirror_mode": {
    "name": "ipython",
    "version": 3
   },
   "file_extension": ".py",
   "mimetype": "text/x-python",
   "name": "python",
   "nbconvert_exporter": "python",
   "pygments_lexer": "ipython3",
   "version": "3.10.7"
  },
  "orig_nbformat": 4,
  "vscode": {
   "interpreter": {
    "hash": "aee8b7b246df8f9039afb4144a1f6fd8d2ca17a180786b69acc140d282b71a49"
   }
  }
 },
 "nbformat": 4,
 "nbformat_minor": 2
}
