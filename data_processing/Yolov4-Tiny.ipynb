{
 "cells": [
  {
   "cell_type": "code",
   "execution_count": 1,
   "metadata": {},
   "outputs": [],
   "source": [
    "import numpy as np\n",
    "import pandas as pd\n",
    "import fiftyone.zoo as zoo\n",
    "import fiftyone"
   ]
  },
  {
   "cell_type": "code",
   "execution_count": null,
   "metadata": {},
   "outputs": [],
   "source": [
    "fiftyone.utils.openimages.get_classes()"
   ]
  },
  {
   "cell_type": "code",
   "execution_count": null,
   "metadata": {},
   "outputs": [],
   "source": [
    "train_data = fiftyone.zoo.load_zoo_dataset(\n",
    "              \"open-images-v6\",\n",
    "              label_types=[\"detections\"],\n",
    "              classes=[\"Human head\", \"Human arm\", \"Human hand\", \"Human leg\", \"Human foot\", \"Human body\"],\n",
    "              max_samples=10000,\n",
    "          )\n",
    "\n",
    "session = fiftyone.launch_app(train_data)"
   ]
  }
 ],
 "metadata": {
  "kernelspec": {
   "display_name": "Python 3.10.6 ('venv': venv)",
   "language": "python",
   "name": "python3"
  },
  "language_info": {
   "codemirror_mode": {
    "name": "ipython",
    "version": 3
   },
   "file_extension": ".py",
   "mimetype": "text/x-python",
   "name": "python",
   "nbconvert_exporter": "python",
   "pygments_lexer": "ipython3",
   "version": "3.10.6"
  },
  "vscode": {
   "interpreter": {
    "hash": "4ccb5946ce0078ad51091561a1eb90ba82bd8b388ae50dd1fe4086b9ee54f4fe"
   }
  }
 },
 "nbformat": 4,
 "nbformat_minor": 4
}
