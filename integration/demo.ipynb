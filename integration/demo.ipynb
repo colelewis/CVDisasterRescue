{
 "cells": [
  {
   "cell_type": "code",
   "execution_count": null,
   "metadata": {},
   "outputs": [],
   "source": [
    "import sound_classification.pseye_sound_inference\n",
    "import sound_localization.pseye_channel_filter\n",
    "import person_detection.webcam_person_detection_pseye\n",
    "\n"
   ]
  }
 ],
 "metadata": {
  "language_info": {
   "name": "python"
  },
  "orig_nbformat": 4
 },
 "nbformat": 4,
 "nbformat_minor": 2
}
